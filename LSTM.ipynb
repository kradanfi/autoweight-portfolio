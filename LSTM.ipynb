{
  "nbformat": 4,
  "nbformat_minor": 0,
  "metadata": {
    "colab": {
      "name": "LSTM.ipynb",
      "provenance": [],
      "collapsed_sections": [],
      "mount_file_id": "1IEs6NNdxOV2kyQnC-VkGI8PAaFoA8jex",
      "authorship_tag": "ABX9TyPi4gZCV7zSQUxK5EIG7ZSg",
      "include_colab_link": true
    },
    "kernelspec": {
      "name": "python3",
      "display_name": "Python 3"
    },
    "language_info": {
      "name": "python"
    }
  },
  "cells": [
    {
      "cell_type": "markdown",
      "metadata": {
        "id": "view-in-github",
        "colab_type": "text"
      },
      "source": [
        "<a href=\"https://colab.research.google.com/github/kradanfi/autoweight-portfolio/blob/main/LSTM.ipynb\" target=\"_parent\"><img src=\"https://colab.research.google.com/assets/colab-badge.svg\" alt=\"Open In Colab\"/></a>"
      ]
    },
    {
      "cell_type": "code",
      "metadata": {
        "colab": {
          "base_uri": "https://localhost:8080/"
        },
        "id": "tpw3keMfto8t",
        "outputId": "a00de01c-be66-4ebb-8cdf-df409c37f6e5"
      },
      "source": [
        "from google.colab import drive\n",
        "drive.mount('/gdrive')"
      ],
      "execution_count": 1,
      "outputs": [
        {
          "output_type": "stream",
          "text": [
            "Mounted at /gdrive\n"
          ],
          "name": "stdout"
        }
      ]
    },
    {
      "cell_type": "code",
      "metadata": {
        "id": "gVaWeXLTtNbe"
      },
      "source": [
        "import pandas as pd\n",
        "import numpy as np\n",
        "import matplotlib.pyplot as plt"
      ],
      "execution_count": 5,
      "outputs": []
    },
    {
      "cell_type": "code",
      "metadata": {
        "colab": {
          "base_uri": "https://localhost:8080/"
        },
        "id": "8lanK5mCtYYr",
        "outputId": "bb2d7e62-ace7-4c74-b71c-65d736bb597a"
      },
      "source": [
        "ls /gdrive/MyDrive/DJI_dataset/AAPL.json"
      ],
      "execution_count": 6,
      "outputs": [
        {
          "output_type": "stream",
          "text": [
            "/gdrive/MyDrive/DJI_dataset/AAPL.json\n"
          ],
          "name": "stdout"
        }
      ]
    },
    {
      "cell_type": "code",
      "metadata": {
        "id": "3K7QBt4GtF76"
      },
      "source": [
        "dataset = pd.read_json('/gdrive/MyDrive/DJI_dataset/AAPL.json')"
      ],
      "execution_count": 239,
      "outputs": []
    },
    {
      "cell_type": "code",
      "metadata": {
        "id": "3UNjgCcwvdPH"
      },
      "source": [
        "df = dataset['2018-01-01':]\n",
        "# df = dataset"
      ],
      "execution_count": 249,
      "outputs": []
    },
    {
      "cell_type": "code",
      "metadata": {
        "id": "KCG8xLpTPKBh"
      },
      "source": [
        "eval = df[-30:]"
      ],
      "execution_count": 250,
      "outputs": []
    },
    {
      "cell_type": "code",
      "metadata": {
        "id": "TUHxDBKgPECs"
      },
      "source": [
        "df= df[:-30]"
      ],
      "execution_count": 251,
      "outputs": []
    },
    {
      "cell_type": "markdown",
      "metadata": {
        "id": "IpdwSXvgAdAc"
      },
      "source": [
        "# LSTM"
      ]
    },
    {
      "cell_type": "code",
      "metadata": {
        "id": "O3WobyHJfIif"
      },
      "source": [
        "test_time = 30\n",
        "look_back = 30"
      ],
      "execution_count": 252,
      "outputs": []
    },
    {
      "cell_type": "code",
      "metadata": {
        "id": "S0oURfw8IYEc"
      },
      "source": [
        "import math\n",
        "import matplotlib.pyplot as plt\n",
        "import keras\n",
        "import pandas as pd\n",
        "import numpy as np\n",
        "from keras.models import Sequential\n",
        "from keras.layers import Dense\n",
        "from keras.layers import LSTM\n",
        "from keras.layers import Dropout\n",
        "from keras.layers import *\n",
        "from sklearn.preprocessing import MinMaxScaler\n",
        "from sklearn.metrics import mean_squared_error\n",
        "from sklearn.metrics import mean_absolute_error\n",
        "from sklearn.model_selection import train_test_split\n",
        "from keras.callbacks import EarlyStopping\n",
        "\n",
        "def create_lstm_model(X_train, y_train):\n",
        "\n",
        "  model = Sequential()\n",
        "  #Adding the first LSTM layer and some Dropout regularisation\n",
        "  model.add(LSTM(units = 50, return_sequences = True, input_shape = (X_train.shape[1], 1)))\n",
        "  model.add(Dropout(0.2))\n",
        "  # Adding a second LSTM layer and some Dropout regularisation\n",
        "  model.add(LSTM(units = 50, return_sequences = True))\n",
        "  model.add(Dropout(0.2))\n",
        "  # Adding a third LSTM layer and some Dropout regularisation\n",
        "  model.add(LSTM(units = 50, return_sequences = True))\n",
        "  model.add(Dropout(0.2))\n",
        "  # Adding a fourth LSTM layer and some Dropout regularisation\n",
        "  model.add(LSTM(units = 50))\n",
        "  model.add(Dropout(0.2))\n",
        "  # Adding the output layer\n",
        "  model.add(Dense(units = 1))\n",
        "\n",
        "  # Compiling the RNN\n",
        "  model.compile(optimizer = 'adam', loss = 'mean_squared_error')\n",
        "\n",
        "  # Fitting the RNN to the Training set\n",
        "  model.fit(X_train, y_train, epochs = 100, batch_size = 32)\n",
        "  return model"
      ],
      "execution_count": 253,
      "outputs": []
    },
    {
      "cell_type": "code",
      "metadata": {
        "colab": {
          "base_uri": "https://localhost:8080/",
          "height": 979
        },
        "id": "lruh3Zq0XS6D",
        "outputId": "d3b99b92-51fb-426c-9529-16a11ad82cd9"
      },
      "source": [
        "future_ind"
      ],
      "execution_count": 254,
      "outputs": [
        {
          "output_type": "execute_result",
          "data": {
            "text/html": [
              "<div>\n",
              "<style scoped>\n",
              "    .dataframe tbody tr th:only-of-type {\n",
              "        vertical-align: middle;\n",
              "    }\n",
              "\n",
              "    .dataframe tbody tr th {\n",
              "        vertical-align: top;\n",
              "    }\n",
              "\n",
              "    .dataframe thead th {\n",
              "        text-align: right;\n",
              "    }\n",
              "</style>\n",
              "<table border=\"1\" class=\"dataframe\">\n",
              "  <thead>\n",
              "    <tr style=\"text-align: right;\">\n",
              "      <th></th>\n",
              "      <th>Date</th>\n",
              "      <th>ADXR</th>\n",
              "      <th>ADXR_predict</th>\n",
              "    </tr>\n",
              "  </thead>\n",
              "  <tbody>\n",
              "    <tr>\n",
              "      <th>0</th>\n",
              "      <td>2019-11-18</td>\n",
              "      <td>36.056741</td>\n",
              "      <td>35.740910</td>\n",
              "    </tr>\n",
              "    <tr>\n",
              "      <th>1</th>\n",
              "      <td>2019-11-19</td>\n",
              "      <td>35.756833</td>\n",
              "      <td>36.079082</td>\n",
              "    </tr>\n",
              "    <tr>\n",
              "      <th>2</th>\n",
              "      <td>2019-11-20</td>\n",
              "      <td>35.092831</td>\n",
              "      <td>35.922192</td>\n",
              "    </tr>\n",
              "    <tr>\n",
              "      <th>3</th>\n",
              "      <td>2019-11-21</td>\n",
              "      <td>34.606414</td>\n",
              "      <td>35.309616</td>\n",
              "    </tr>\n",
              "    <tr>\n",
              "      <th>4</th>\n",
              "      <td>2019-11-22</td>\n",
              "      <td>34.118034</td>\n",
              "      <td>34.568317</td>\n",
              "    </tr>\n",
              "    <tr>\n",
              "      <th>5</th>\n",
              "      <td>2019-11-25</td>\n",
              "      <td>33.878489</td>\n",
              "      <td>33.948704</td>\n",
              "    </tr>\n",
              "    <tr>\n",
              "      <th>6</th>\n",
              "      <td>2019-11-26</td>\n",
              "      <td>33.939363</td>\n",
              "      <td>33.622059</td>\n",
              "    </tr>\n",
              "    <tr>\n",
              "      <th>7</th>\n",
              "      <td>2019-11-27</td>\n",
              "      <td>33.885592</td>\n",
              "      <td>33.655685</td>\n",
              "    </tr>\n",
              "    <tr>\n",
              "      <th>8</th>\n",
              "      <td>2019-11-29</td>\n",
              "      <td>33.993180</td>\n",
              "      <td>33.835381</td>\n",
              "    </tr>\n",
              "    <tr>\n",
              "      <th>9</th>\n",
              "      <td>2019-12-02</td>\n",
              "      <td>33.610379</td>\n",
              "      <td>33.999008</td>\n",
              "    </tr>\n",
              "    <tr>\n",
              "      <th>10</th>\n",
              "      <td>2019-12-03</td>\n",
              "      <td>33.023856</td>\n",
              "      <td>33.833916</td>\n",
              "    </tr>\n",
              "    <tr>\n",
              "      <th>11</th>\n",
              "      <td>2019-12-04</td>\n",
              "      <td>32.283441</td>\n",
              "      <td>33.218487</td>\n",
              "    </tr>\n",
              "    <tr>\n",
              "      <th>12</th>\n",
              "      <td>2019-12-05</td>\n",
              "      <td>31.953651</td>\n",
              "      <td>32.244938</td>\n",
              "    </tr>\n",
              "    <tr>\n",
              "      <th>13</th>\n",
              "      <td>2019-12-06</td>\n",
              "      <td>32.249969</td>\n",
              "      <td>31.330128</td>\n",
              "    </tr>\n",
              "    <tr>\n",
              "      <th>14</th>\n",
              "      <td>2019-12-09</td>\n",
              "      <td>32.251260</td>\n",
              "      <td>30.993010</td>\n",
              "    </tr>\n",
              "    <tr>\n",
              "      <th>15</th>\n",
              "      <td>2019-12-10</td>\n",
              "      <td>31.317533</td>\n",
              "      <td>31.111006</td>\n",
              "    </tr>\n",
              "    <tr>\n",
              "      <th>16</th>\n",
              "      <td>2019-12-11</td>\n",
              "      <td>30.552561</td>\n",
              "      <td>30.919376</td>\n",
              "    </tr>\n",
              "    <tr>\n",
              "      <th>17</th>\n",
              "      <td>2019-12-12</td>\n",
              "      <td>29.925252</td>\n",
              "      <td>30.231909</td>\n",
              "    </tr>\n",
              "    <tr>\n",
              "      <th>18</th>\n",
              "      <td>2019-12-13</td>\n",
              "      <td>29.947117</td>\n",
              "      <td>29.326571</td>\n",
              "    </tr>\n",
              "    <tr>\n",
              "      <th>19</th>\n",
              "      <td>2019-12-16</td>\n",
              "      <td>30.448299</td>\n",
              "      <td>28.787836</td>\n",
              "    </tr>\n",
              "    <tr>\n",
              "      <th>20</th>\n",
              "      <td>2019-12-17</td>\n",
              "      <td>31.059938</td>\n",
              "      <td>28.981541</td>\n",
              "    </tr>\n",
              "    <tr>\n",
              "      <th>21</th>\n",
              "      <td>2019-12-18</td>\n",
              "      <td>31.638764</td>\n",
              "      <td>29.776590</td>\n",
              "    </tr>\n",
              "    <tr>\n",
              "      <th>22</th>\n",
              "      <td>2019-12-19</td>\n",
              "      <td>31.637805</td>\n",
              "      <td>30.757872</td>\n",
              "    </tr>\n",
              "    <tr>\n",
              "      <th>23</th>\n",
              "      <td>2019-12-20</td>\n",
              "      <td>31.364378</td>\n",
              "      <td>31.349379</td>\n",
              "    </tr>\n",
              "    <tr>\n",
              "      <th>24</th>\n",
              "      <td>2019-12-23</td>\n",
              "      <td>31.021424</td>\n",
              "      <td>31.309361</td>\n",
              "    </tr>\n",
              "    <tr>\n",
              "      <th>25</th>\n",
              "      <td>2019-12-24</td>\n",
              "      <td>31.034991</td>\n",
              "      <td>30.818441</td>\n",
              "    </tr>\n",
              "    <tr>\n",
              "      <th>26</th>\n",
              "      <td>2019-12-26</td>\n",
              "      <td>31.834405</td>\n",
              "      <td>30.375113</td>\n",
              "    </tr>\n",
              "    <tr>\n",
              "      <th>27</th>\n",
              "      <td>2019-12-27</td>\n",
              "      <td>32.448139</td>\n",
              "      <td>30.610941</td>\n",
              "    </tr>\n",
              "    <tr>\n",
              "      <th>28</th>\n",
              "      <td>2019-12-30</td>\n",
              "      <td>32.478900</td>\n",
              "      <td>31.457951</td>\n",
              "    </tr>\n",
              "    <tr>\n",
              "      <th>29</th>\n",
              "      <td>2019-12-31</td>\n",
              "      <td>32.668623</td>\n",
              "      <td>32.246914</td>\n",
              "    </tr>\n",
              "  </tbody>\n",
              "</table>\n",
              "</div>"
            ],
            "text/plain": [
              "         Date       ADXR  ADXR_predict\n",
              "0  2019-11-18  36.056741     35.740910\n",
              "1  2019-11-19  35.756833     36.079082\n",
              "2  2019-11-20  35.092831     35.922192\n",
              "3  2019-11-21  34.606414     35.309616\n",
              "4  2019-11-22  34.118034     34.568317\n",
              "5  2019-11-25  33.878489     33.948704\n",
              "6  2019-11-26  33.939363     33.622059\n",
              "7  2019-11-27  33.885592     33.655685\n",
              "8  2019-11-29  33.993180     33.835381\n",
              "9  2019-12-02  33.610379     33.999008\n",
              "10 2019-12-03  33.023856     33.833916\n",
              "11 2019-12-04  32.283441     33.218487\n",
              "12 2019-12-05  31.953651     32.244938\n",
              "13 2019-12-06  32.249969     31.330128\n",
              "14 2019-12-09  32.251260     30.993010\n",
              "15 2019-12-10  31.317533     31.111006\n",
              "16 2019-12-11  30.552561     30.919376\n",
              "17 2019-12-12  29.925252     30.231909\n",
              "18 2019-12-13  29.947117     29.326571\n",
              "19 2019-12-16  30.448299     28.787836\n",
              "20 2019-12-17  31.059938     28.981541\n",
              "21 2019-12-18  31.638764     29.776590\n",
              "22 2019-12-19  31.637805     30.757872\n",
              "23 2019-12-20  31.364378     31.349379\n",
              "24 2019-12-23  31.021424     31.309361\n",
              "25 2019-12-24  31.034991     30.818441\n",
              "26 2019-12-26  31.834405     30.375113\n",
              "27 2019-12-27  32.448139     30.610941\n",
              "28 2019-12-30  32.478900     31.457951\n",
              "29 2019-12-31  32.668623     32.246914"
            ]
          },
          "metadata": {
            "tags": []
          },
          "execution_count": 254
        }
      ]
    },
    {
      "cell_type": "code",
      "metadata": {
        "id": "hL7veFpvoAI1"
      },
      "source": [
        "future_ind = pd.DataFrame()\n",
        "future_ind[\"Date\"] = df[df.shape[0]-look_back:].index"
      ],
      "execution_count": 255,
      "outputs": []
    },
    {
      "cell_type": "code",
      "metadata": {
        "id": "rqmdHuBCldYt"
      },
      "source": [
        "# for ind in range(0,len(df.columns)):\n",
        "#   print(df.columns[ind])\n",
        "#   # setting train test \n",
        "#   training_set = df.iloc[:df.shape[0]-test_time,ind:ind+1].values\n",
        "#   test_set = df.iloc[df.shape[0]-test_time:,ind:ind+1].values\n",
        "\n",
        "#   # normalize\n",
        "#   sc = MinMaxScaler(feature_range = (0, 1))\n",
        "#   training_set_scaled = sc.fit_transform(training_set)\n",
        "#   print(training_set_scaled.shape)\n",
        "\n",
        "#   # prepare train data\n",
        "#   X_train = []\n",
        "#   y_train = []\n",
        "#   for i in range(30, training_set_scaled.shape[0]):\n",
        "#       X_train.append(training_set_scaled[i-30:i, 0])\n",
        "#       y_train.append(training_set_scaled[i, 0])\n",
        "#   X_train, y_train = np.array(X_train), np.array(y_train)\n",
        "\n",
        "#   X_train = np.reshape(X_train, (X_train.shape[0], X_train.shape[1], 1))\n",
        "#   print(X_train.shape)\n",
        "\n",
        "#   # prepare input for model lstmp\n",
        "#   dataset_train = df.iloc[:df.shape[0]-test_time, ind:ind+1]\n",
        "#   dataset_test = df.iloc[df.shape[0]-test_time:, ind:ind+1]\n",
        "#   dataset_total = pd.concat((dataset_train, dataset_test), axis = 0)\n",
        "#   inputs = dataset_total[len(dataset_total) - len(dataset_test) - 30:].values\n",
        "#   inputs = inputs.reshape(-1,1)\n",
        "#   inputs = sc.transform(inputs)\n",
        "#   print(inputs.shape)\n",
        "\n",
        "\n",
        "#   #train model\n",
        "#   model = create_lstm_model(X_train,y_train)\n",
        "\n",
        "#   # prepare test\n",
        "#   X_test = []\n",
        "#   for i in range(30, inputs.shape[0]):\n",
        "#       X_test.append(inputs[i-30:i, 0])\n",
        "#   X_test = np.array(X_test)\n",
        "#   X_test = np.reshape(X_test, (X_test.shape[0], X_test.shape[1], 1))\n",
        "#   print(X_test.shape)\n",
        "\n",
        "#   #predict\n",
        "#   predicted_stock_price = model.predict(X_test)\n",
        "#   predicted_stock_price = sc.inverse_transform(predicted_stock_price)\n",
        "\n",
        "#   #recode \n",
        "#   future_ind[df.columns[ind]] = pd.DataFrame(np.array(dataset_test))\n",
        "#   future_ind[df.columns[ind]+\"_predict\"] = pd.DataFrame(predicted_stock_price)\n",
        "#   plt.figure(figsize=(10,10))\n",
        "#   plt.plot(predicted_stock_price, 'r--', label=\"predic\")\n",
        "#   plt.plot(np.array(dataset_test), label=\"real\")\n",
        "#   plt.legend()\n",
        "#   plt.show()"
      ],
      "execution_count": 256,
      "outputs": []
    },
    {
      "cell_type": "code",
      "metadata": {
        "id": "dXZHur7C54kU"
      },
      "source": [
        "# plt.figure(figsize=(10,10))\n",
        "# plt.plot(predicted_stock_price, 'r--', label=\"predic\")\n",
        "# plt.plot(np.array(dataset_test), label=\"close\")\n",
        "# plt.legend()\n",
        "# plt.show()"
      ],
      "execution_count": 257,
      "outputs": []
    },
    {
      "cell_type": "code",
      "metadata": {
        "id": "W8huHg-J4KVG"
      },
      "source": [
        "# future_ind"
      ],
      "execution_count": 258,
      "outputs": []
    },
    {
      "cell_type": "code",
      "metadata": {
        "id": "91B8CKqrmbuX"
      },
      "source": [
        "# future_ind.to_json(r'/gdrive/MyDrive/DJI_predict/test.json')"
      ],
      "execution_count": 259,
      "outputs": []
    },
    {
      "cell_type": "markdown",
      "metadata": {
        "id": "0nFirtvQP3wh"
      },
      "source": [
        "# test next month"
      ]
    },
    {
      "cell_type": "code",
      "metadata": {
        "colab": {
          "base_uri": "https://localhost:8080/",
          "height": 1000
        },
        "id": "EmuNgqrAq02P",
        "outputId": "71402ba3-44b7-4847-aa85-9d5675309be6"
      },
      "source": [
        "  ind = 1\n",
        "  print(df.columns[ind])\n",
        "  # setting train test \n",
        "  training_set = df.iloc[:df.shape[0]-look_back,ind:ind+1].values\n",
        "  test_set = df.iloc[df.shape[0]-look_back:,ind:ind+1].values\n",
        "\n",
        "  # normalize\n",
        "  sc = MinMaxScaler(feature_range = (0, 1))\n",
        "  training_set_scaled = sc.fit_transform(training_set)\n",
        "  print(training_set_scaled.shape)\n",
        "\n",
        "  # prepare train data\n",
        "  X_train = []\n",
        "  y_train = []\n",
        "  for i in range(look_back, training_set_scaled.shape[0]):\n",
        "      X_train.append(training_set_scaled[i-look_back:i, 0])\n",
        "      y_train.append(training_set_scaled[i, 0])\n",
        "  X_train, y_train = np.array(X_train), np.array(y_train)\n",
        "\n",
        "  X_train = np.reshape(X_train, (X_train.shape[0], X_train.shape[1], 1))\n",
        "  print(X_train.shape)\n",
        "\n",
        "  # prepare input for model lstmp\n",
        "  dataset_train = df.iloc[:df.shape[0]-test_time, ind:ind+1]\n",
        "  dataset_test = df.iloc[df.shape[0]-test_time:, ind:ind+1]\n",
        "  dataset_total = pd.concat((dataset_train, dataset_test), axis = 0)\n",
        "  inputs = dataset_total[len(dataset_total) - len(dataset_test) - look_back:].values\n",
        "  inputs = inputs.reshape(-1,1)\n",
        "  inputs = sc.transform(inputs)\n",
        "  print(inputs.shape)\n",
        "\n",
        "\n",
        "  #train model\n",
        "  model = create_lstm_model(X_train,y_train)\n",
        "\n",
        "  # prepare test\n",
        "  X_test = []\n",
        "  for i in range(look_back, inputs.shape[0]):\n",
        "      X_test.append(inputs[i-look_back:i, 0])\n",
        "  X_test = np.array(X_test)\n",
        "  X_test = np.reshape(X_test, (X_test.shape[0], X_test.shape[1], 1))\n",
        "  print(X_test.shape)\n",
        "\n",
        "  #predict\n",
        "  predicted_stock_price = model.predict(X_test)\n",
        "  predicted_stock_price = sc.inverse_transform(predicted_stock_price)\n",
        "\n",
        "  #recode \n",
        "  future_ind[df.columns[ind]] = pd.DataFrame(np.array(dataset_test))\n",
        "  future_ind[df.columns[ind]+\"_predict\"] = pd.DataFrame(predicted_stock_price)\n",
        "  plt.figure(figsize=(10,10))\n",
        "  plt.plot(predicted_stock_price, 'r--', label=\"predic\")\n",
        "  plt.plot(np.array(dataset_test), label=\"real\")\n",
        "  plt.legend()\n",
        "  plt.show()"
      ],
      "execution_count": 260,
      "outputs": [
        {
          "output_type": "stream",
          "text": [
            "ADXR\n",
            "(443, 1)\n",
            "(413, 30, 1)\n",
            "(60, 1)\n",
            "Epoch 1/100\n",
            "13/13 [==============================] - 8s 64ms/step - loss: 0.1639\n",
            "Epoch 2/100\n",
            "13/13 [==============================] - 1s 64ms/step - loss: 0.0544\n",
            "Epoch 3/100\n",
            "13/13 [==============================] - 1s 66ms/step - loss: 0.0420\n",
            "Epoch 4/100\n",
            "13/13 [==============================] - 1s 63ms/step - loss: 0.0263\n",
            "Epoch 5/100\n",
            "13/13 [==============================] - 1s 64ms/step - loss: 0.0194\n",
            "Epoch 6/100\n",
            "13/13 [==============================] - 1s 64ms/step - loss: 0.0205\n",
            "Epoch 7/100\n",
            "13/13 [==============================] - 1s 63ms/step - loss: 0.0209\n",
            "Epoch 8/100\n",
            "13/13 [==============================] - 1s 67ms/step - loss: 0.0201\n",
            "Epoch 9/100\n",
            "13/13 [==============================] - 1s 65ms/step - loss: 0.0143\n",
            "Epoch 10/100\n",
            "13/13 [==============================] - 1s 64ms/step - loss: 0.0126\n",
            "Epoch 11/100\n",
            "13/13 [==============================] - 1s 66ms/step - loss: 0.0112\n",
            "Epoch 12/100\n",
            "13/13 [==============================] - 1s 66ms/step - loss: 0.0098\n",
            "Epoch 13/100\n",
            "13/13 [==============================] - 1s 64ms/step - loss: 0.0099\n",
            "Epoch 14/100\n",
            "13/13 [==============================] - 1s 65ms/step - loss: 0.0103\n",
            "Epoch 15/100\n",
            "13/13 [==============================] - 1s 64ms/step - loss: 0.0092\n",
            "Epoch 16/100\n",
            "13/13 [==============================] - 1s 66ms/step - loss: 0.0106\n",
            "Epoch 17/100\n",
            "13/13 [==============================] - 1s 64ms/step - loss: 0.0104\n",
            "Epoch 18/100\n",
            "13/13 [==============================] - 1s 65ms/step - loss: 0.0079\n",
            "Epoch 19/100\n",
            "13/13 [==============================] - 1s 64ms/step - loss: 0.0087\n",
            "Epoch 20/100\n",
            "13/13 [==============================] - 1s 65ms/step - loss: 0.0104\n",
            "Epoch 21/100\n",
            "13/13 [==============================] - 1s 65ms/step - loss: 0.0092\n",
            "Epoch 22/100\n",
            "13/13 [==============================] - 1s 65ms/step - loss: 0.0087\n",
            "Epoch 23/100\n",
            "13/13 [==============================] - 1s 69ms/step - loss: 0.0100\n",
            "Epoch 24/100\n",
            "13/13 [==============================] - 1s 64ms/step - loss: 0.0077\n",
            "Epoch 25/100\n",
            "13/13 [==============================] - 1s 63ms/step - loss: 0.0089\n",
            "Epoch 26/100\n",
            "13/13 [==============================] - 1s 63ms/step - loss: 0.0074\n",
            "Epoch 27/100\n",
            "13/13 [==============================] - 1s 67ms/step - loss: 0.0074\n",
            "Epoch 28/100\n",
            "13/13 [==============================] - 1s 64ms/step - loss: 0.0076\n",
            "Epoch 29/100\n",
            "13/13 [==============================] - 1s 64ms/step - loss: 0.0085\n",
            "Epoch 30/100\n",
            "13/13 [==============================] - 1s 62ms/step - loss: 0.0075\n",
            "Epoch 31/100\n",
            "13/13 [==============================] - 1s 65ms/step - loss: 0.0068\n",
            "Epoch 32/100\n",
            "13/13 [==============================] - 1s 64ms/step - loss: 0.0068\n",
            "Epoch 33/100\n",
            "13/13 [==============================] - 1s 64ms/step - loss: 0.0079\n",
            "Epoch 34/100\n",
            "13/13 [==============================] - 1s 64ms/step - loss: 0.0069\n",
            "Epoch 35/100\n",
            "13/13 [==============================] - 1s 66ms/step - loss: 0.0075\n",
            "Epoch 36/100\n",
            "13/13 [==============================] - 1s 64ms/step - loss: 0.0063\n",
            "Epoch 37/100\n",
            "13/13 [==============================] - 1s 63ms/step - loss: 0.0076\n",
            "Epoch 38/100\n",
            "13/13 [==============================] - 1s 64ms/step - loss: 0.0075\n",
            "Epoch 39/100\n",
            "13/13 [==============================] - 1s 64ms/step - loss: 0.0072\n",
            "Epoch 40/100\n",
            "13/13 [==============================] - 1s 63ms/step - loss: 0.0076\n",
            "Epoch 41/100\n",
            "13/13 [==============================] - 1s 64ms/step - loss: 0.0076\n",
            "Epoch 42/100\n",
            "13/13 [==============================] - 1s 64ms/step - loss: 0.0076\n",
            "Epoch 43/100\n",
            "13/13 [==============================] - 1s 63ms/step - loss: 0.0081\n",
            "Epoch 44/100\n",
            "13/13 [==============================] - 1s 66ms/step - loss: 0.0065\n",
            "Epoch 45/100\n",
            "13/13 [==============================] - 1s 63ms/step - loss: 0.0065\n",
            "Epoch 46/100\n",
            "13/13 [==============================] - 1s 62ms/step - loss: 0.0081\n",
            "Epoch 47/100\n",
            "13/13 [==============================] - 1s 64ms/step - loss: 0.0061\n",
            "Epoch 48/100\n",
            "13/13 [==============================] - 1s 65ms/step - loss: 0.0076\n",
            "Epoch 49/100\n",
            "13/13 [==============================] - 1s 62ms/step - loss: 0.0067\n",
            "Epoch 50/100\n",
            "13/13 [==============================] - 1s 64ms/step - loss: 0.0071\n",
            "Epoch 51/100\n",
            "13/13 [==============================] - 1s 64ms/step - loss: 0.0080\n",
            "Epoch 52/100\n",
            "13/13 [==============================] - 1s 65ms/step - loss: 0.0067\n",
            "Epoch 53/100\n",
            "13/13 [==============================] - 1s 63ms/step - loss: 0.0069\n",
            "Epoch 54/100\n",
            "13/13 [==============================] - 1s 65ms/step - loss: 0.0063\n",
            "Epoch 55/100\n",
            "13/13 [==============================] - 1s 63ms/step - loss: 0.0064\n",
            "Epoch 56/100\n",
            "13/13 [==============================] - 1s 64ms/step - loss: 0.0061\n",
            "Epoch 57/100\n",
            "13/13 [==============================] - 1s 63ms/step - loss: 0.0069\n",
            "Epoch 58/100\n",
            "13/13 [==============================] - 1s 64ms/step - loss: 0.0061\n",
            "Epoch 59/100\n",
            "13/13 [==============================] - 1s 65ms/step - loss: 0.0067\n",
            "Epoch 60/100\n",
            "13/13 [==============================] - 1s 67ms/step - loss: 0.0061\n",
            "Epoch 61/100\n",
            "13/13 [==============================] - 1s 65ms/step - loss: 0.0068\n",
            "Epoch 62/100\n",
            "13/13 [==============================] - 1s 64ms/step - loss: 0.0070\n",
            "Epoch 63/100\n",
            "13/13 [==============================] - 1s 64ms/step - loss: 0.0053\n",
            "Epoch 64/100\n",
            "13/13 [==============================] - 1s 65ms/step - loss: 0.0049\n",
            "Epoch 65/100\n",
            "13/13 [==============================] - 1s 67ms/step - loss: 0.0060\n",
            "Epoch 66/100\n",
            "13/13 [==============================] - 1s 65ms/step - loss: 0.0054\n",
            "Epoch 67/100\n",
            "13/13 [==============================] - 1s 64ms/step - loss: 0.0054\n",
            "Epoch 68/100\n",
            "13/13 [==============================] - 1s 65ms/step - loss: 0.0055\n",
            "Epoch 69/100\n",
            "13/13 [==============================] - 1s 63ms/step - loss: 0.0060\n",
            "Epoch 70/100\n",
            "13/13 [==============================] - 1s 65ms/step - loss: 0.0058\n",
            "Epoch 71/100\n",
            "13/13 [==============================] - 1s 62ms/step - loss: 0.0052\n",
            "Epoch 72/100\n",
            "13/13 [==============================] - 1s 64ms/step - loss: 0.0063\n",
            "Epoch 73/100\n",
            "13/13 [==============================] - 1s 67ms/step - loss: 0.0058\n",
            "Epoch 74/100\n",
            "13/13 [==============================] - 1s 64ms/step - loss: 0.0049\n",
            "Epoch 75/100\n",
            "13/13 [==============================] - 1s 65ms/step - loss: 0.0054\n",
            "Epoch 76/100\n",
            "13/13 [==============================] - 1s 63ms/step - loss: 0.0054\n",
            "Epoch 77/100\n",
            "13/13 [==============================] - 1s 66ms/step - loss: 0.0053\n",
            "Epoch 78/100\n",
            "13/13 [==============================] - 1s 64ms/step - loss: 0.0047\n",
            "Epoch 79/100\n",
            "13/13 [==============================] - 1s 64ms/step - loss: 0.0048\n",
            "Epoch 80/100\n",
            "13/13 [==============================] - 1s 64ms/step - loss: 0.0052\n",
            "Epoch 81/100\n",
            "13/13 [==============================] - 1s 63ms/step - loss: 0.0060\n",
            "Epoch 82/100\n",
            "13/13 [==============================] - 1s 64ms/step - loss: 0.0056\n",
            "Epoch 83/100\n",
            "13/13 [==============================] - 1s 65ms/step - loss: 0.0052\n",
            "Epoch 84/100\n",
            "13/13 [==============================] - 1s 65ms/step - loss: 0.0047\n",
            "Epoch 85/100\n",
            "13/13 [==============================] - 1s 66ms/step - loss: 0.0058\n",
            "Epoch 86/100\n",
            "13/13 [==============================] - 1s 65ms/step - loss: 0.0044\n",
            "Epoch 87/100\n",
            "13/13 [==============================] - 1s 65ms/step - loss: 0.0051\n",
            "Epoch 88/100\n",
            "13/13 [==============================] - 1s 64ms/step - loss: 0.0043\n",
            "Epoch 89/100\n",
            "13/13 [==============================] - 1s 65ms/step - loss: 0.0047\n",
            "Epoch 90/100\n",
            "13/13 [==============================] - 1s 66ms/step - loss: 0.0051\n",
            "Epoch 91/100\n",
            "13/13 [==============================] - 1s 65ms/step - loss: 0.0040\n",
            "Epoch 92/100\n",
            "13/13 [==============================] - 1s 64ms/step - loss: 0.0042\n",
            "Epoch 93/100\n",
            "13/13 [==============================] - 1s 65ms/step - loss: 0.0048\n",
            "Epoch 94/100\n",
            "13/13 [==============================] - 1s 64ms/step - loss: 0.0057\n",
            "Epoch 95/100\n",
            "13/13 [==============================] - 1s 65ms/step - loss: 0.0050\n",
            "Epoch 96/100\n",
            "13/13 [==============================] - 1s 65ms/step - loss: 0.0044\n",
            "Epoch 97/100\n",
            "13/13 [==============================] - 1s 67ms/step - loss: 0.0042\n",
            "Epoch 98/100\n",
            "13/13 [==============================] - 1s 64ms/step - loss: 0.0042\n",
            "Epoch 99/100\n",
            "13/13 [==============================] - 1s 66ms/step - loss: 0.0042\n",
            "Epoch 100/100\n",
            "13/13 [==============================] - 1s 66ms/step - loss: 0.0046\n",
            "(30, 30, 1)\n"
          ],
          "name": "stdout"
        },
        {
          "output_type": "display_data",
          "data": {
            "image/png": "[encoded data removed]",
            "text/plain": [
              "<Figure size 720x720 with 1 Axes>"
            ]
          },
          "metadata": {
            "tags": [],
            "needs_background": "light"
          }
        }
      ]
    },
    {
      "cell_type": "code",
      "metadata": {
        "id": "G1nFwzk0STay"
      },
      "source": [
        "    prediction_list = inputs[-60:-30]\n",
        "    \n",
        "    for _ in range(30):\n",
        "        x = prediction_list[-30:]\n",
        "        x = x.reshape((1, 30, 1))\n",
        "        out = model.predict(x)[0][0]\n",
        "        prediction_list = np.append(prediction_list, out)\n",
        "        # print(prediction_list)\n",
        "    prediction_list = prediction_list[30-1:]"
      ],
      "execution_count": 261,
      "outputs": []
    },
    {
      "cell_type": "code",
      "metadata": {
        "colab": {
          "base_uri": "https://localhost:8080/",
          "height": 592
        },
        "id": "0fPm_1dJSUk-",
        "outputId": "6f0d4767-78ff-470d-84a6-9adf8190e52c"
      },
      "source": [
        "  plt.figure(figsize=(10,10))\n",
        "  plt.plot(predicted_stock_price, 'r--', label=\"predic\")\n",
        "  plt.plot(np.array(dataset_test), label=\"real\")\n",
        "  plt.plot(np.array(sc.inverse_transform(prediction_list[-30:].reshape((30, 1)))), label=\"test\")\n",
        "  plt.legend()\n",
        "  plt.show()"
      ],
      "execution_count": 262,
      "outputs": [
        {
          "output_type": "display_data",
          "data": {
            "image/png": "[encoded data removed]",
            "text/plain": [
              "<Figure size 720x720 with 1 Axes>"
            ]
          },
          "metadata": {
            "tags": [],
            "needs_background": "light"
          }
        }
      ]
    },
    {
      "cell_type": "code",
      "metadata": {
        "id": "_ohJd9OeaHsO"
      },
      "source": [
        ""
      ],
      "execution_count": null,
      "outputs": []
    }
  ]
}